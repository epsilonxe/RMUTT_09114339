{
 "cells": [
  {
   "cell_type": "code",
   "execution_count": 14,
   "id": "5865e139-fbb0-4ea5-b3c7-382649412ecc",
   "metadata": {},
   "outputs": [],
   "source": [
    "import nbclean as nbc"
   ]
  },
  {
   "cell_type": "code",
   "execution_count": 18,
   "id": "8ab3fb84-5294-4bc2-8c0b-1997d6828b95",
   "metadata": {},
   "outputs": [],
   "source": [
    "path_original_notebook = 'module_02.ipynb'\n",
    "path_save = './'\n",
    "nb = nbc.NotebookCleaner(path_original_notebook)"
   ]
  },
  {
   "cell_type": "code",
   "execution_count": 19,
   "id": "b2a20171-0591-479c-814c-aeb7185ff7cc",
   "metadata": {},
   "outputs": [
    {
     "data": {
      "text/plain": [
       "Number of preprocessors: 1\n",
       "---\n",
       "<nbgrader.preprocessors.clearsolutions.ClearSolutions object at 0x12bf7ada0>"
      ]
     },
     "execution_count": 19,
     "metadata": {},
     "output_type": "execute_result"
    }
   ],
   "source": [
    "nb.replace_text('## CODE BEGIN', '## CODE END')"
   ]
  },
  {
   "cell_type": "code",
   "execution_count": 20,
   "id": "c5cd6e56-3152-4da8-88e6-b8cf87e0055a",
   "metadata": {},
   "outputs": [],
   "source": [
    "nb.save(path_save + 'mod_' + path_original_notebook)"
   ]
  },
  {
   "cell_type": "code",
   "execution_count": null,
   "id": "a540546d-6f9a-4e21-a399-49bba30242cb",
   "metadata": {},
   "outputs": [],
   "source": []
  }
 ],
 "metadata": {
  "kernelspec": {
   "display_name": "Python 3 (ipykernel)",
   "language": "python",
   "name": "python3"
  },
  "language_info": {
   "codemirror_mode": {
    "name": "ipython",
    "version": 3
   },
   "file_extension": ".py",
   "mimetype": "text/x-python",
   "name": "python",
   "nbconvert_exporter": "python",
   "pygments_lexer": "ipython3",
   "version": "3.10.6"
  }
 },
 "nbformat": 4,
 "nbformat_minor": 5
}
