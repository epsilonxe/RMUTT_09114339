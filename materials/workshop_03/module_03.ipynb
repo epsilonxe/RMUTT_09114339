{
 "cells": [
  {
   "cell_type": "markdown",
   "id": "13b71d31-86eb-4770-8c9c-0a6a0ff421ed",
   "metadata": {},
   "source": [
    "<h1>From Understanding to Preparation</h1>\n"
   ]
  },
  {
   "cell_type": "markdown",
   "id": "a988a074-36df-472b-adce-273068c5a609",
   "metadata": {},
   "source": [
    "## Introduction\n",
    "\n",
    "In this lab, we will continue learning about the data science methodology, and focus on the **Data Understanding** and the **Data Preparation** stages.\n",
    "\n",
    "Estaimted time needed: **20** minutes\n",
    "    \n",
    "\n",
    "## Objectives\n",
    "\n",
    "After complting this lab you will be able to:\n",
    "\n",
    "* Understand Data \n",
    "* Prepare Data for analysis and inference\n"
   ]
  },
  {
   "cell_type": "markdown",
   "id": "6f020c0b-1539-4411-9b51-a32b4e7757e4",
   "metadata": {},
   "source": [
    "## Table of Contents\n",
    "\n",
    "<div class=\"alert alert-block alert-info\" style=\"margin-top: 20px\">\n",
    "    \n",
    "1. [Recap](#0)<br>\n",
    "2. [Data Understanding](#2)<br>\n",
    "3. [Data Preparation](#2)<br>\n",
    "</div>\n",
    "<hr>\n"
   ]
  },
  {
   "cell_type": "markdown",
   "id": "06d25e8f-7698-4c1d-8640-f46ef65cffce",
   "metadata": {},
   "source": [
    "# Recap <a id=\"0\"></a>\n"
   ]
  },
  {
   "cell_type": "markdown",
   "id": "1593382c-967f-4efd-b798-951dd4bbcdbc",
   "metadata": {},
   "source": [
    "In Lab **From Requirements to Collection**, we learned that the data we need to answer the question developed in the business understanding stage, namely *can we automate the process of determining the cuisine of a given recipe?*, is readily available. A researcher named Yong-Yeol Ahn scraped tens of thousands of food recipes (cuisines and ingredients) from three different websites, namely:\n"
   ]
  },
  {
   "cell_type": "markdown",
   "id": "9b13bf39-8ea7-4a9c-90bc-4834d25d8d9c",
   "metadata": {},
   "source": [
    "<img src=\"https://cf-courses-data.s3.us.cloud-object-storage.appdomain.cloud/IBMDeveloperSkillsNetwork-DS0103EN-SkillsNetwork/labs/Module%202/images/lab2_fig3_allrecipes.png\" width=\"500\">\n",
    "<div align=\"center\">\n",
    "www.allrecipes.com\n",
    "</div>\n",
    "<br/><br/>\n",
    "<img src=\"https://cf-courses-data.s3.us.cloud-object-storage.appdomain.cloud/IBMDeveloperSkillsNetwork-DS0103EN-SkillsNetwork/labs/Module%202/images/lab2_fig4_epicurious.png\" width=\"500\">\n",
    "<div align=\"center\">\n",
    "www.epicurious.com\n",
    "</div>\n",
    "<br/><br/>\n",
    "<img src=\"https://cf-courses-data.s3.us.cloud-object-storage.appdomain.cloud/IBMDeveloperSkillsNetwork-DS0103EN-SkillsNetwork/labs/Module%202/images/lab2_fig5_menupan.png\" width=\"500\">\n",
    "<div align=\"center\">\n",
    "www.menupan.com\n",
    "</div>\n",
    "<br/><br/>\n"
   ]
  },
  {
   "cell_type": "markdown",
   "id": "c141c7eb-b460-45a2-b2a7-daaed2685779",
   "metadata": {},
   "source": [
    "For more information on Yong-Yeol Ahn and his research, you can read his paper on [Flavor Network and the Principles of Food Pairing](http://yongyeol.com/papers/ahn-flavornet-2011.pdf).\n"
   ]
  },
  {
   "cell_type": "markdown",
   "id": "4995715a-cb45-4f38-a0f6-a40b3063160d",
   "metadata": {},
   "source": [
    "We also collected the data and placed it on an IBM server for your convenience.\n",
    "\n",
    "------------\n"
   ]
  },
  {
   "cell_type": "markdown",
   "id": "ca3e2c12-7200-49c3-bb4a-9805645dbddc",
   "metadata": {},
   "source": [
    "# Data Understanding <a id=\"2\"></a>\n"
   ]
  },
  {
   "cell_type": "markdown",
   "id": "e040dfad-6a48-475e-ad32-cf3ca03a5576",
   "metadata": {},
   "source": [
    "<img src=\"https://cf-courses-data.s3.us.cloud-object-storage.appdomain.cloud/IBMDeveloperSkillsNetwork-DS0103EN-SkillsNetwork/labs/Module%203/images/flowchart_data_understanding.png\" width=\"500\">\n"
   ]
  },
  {
   "cell_type": "markdown",
   "id": "cf0281f4-97c0-4f7c-8b6d-31384620ac9e",
   "metadata": {},
   "source": [
    "### Using this notebook:\n",
    "\n",
    "To run any of the following cells of code, you can type **Shift + Enter** to excute the code in a cell.\n"
   ]
  },
  {
   "cell_type": "markdown",
   "id": "096598e7-5d15-4919-b7f4-00bb70f72d67",
   "metadata": {},
   "source": [
    "Get the version of R installed.\n"
   ]
  },
  {
   "cell_type": "code",
   "execution_count": null,
   "id": "9139af01-4ba0-445a-a02f-3e8ab3f0c03b",
   "metadata": {},
   "outputs": [],
   "source": [
    "# check R version\n",
    "R.Version()$version.string"
   ]
  },
  {
   "cell_type": "markdown",
   "id": "0154ddc3-e920-46b6-aea8-8e8b5d73ba0a",
   "metadata": {},
   "source": [
    "Download the data from the IBM server.\n"
   ]
  },
  {
   "cell_type": "code",
   "execution_count": null,
   "id": "9a89d92f-1f60-4365-95f8-3b22d2191927",
   "metadata": {},
   "outputs": [],
   "source": [
    "# click here and press Shift + Enter\n",
    "download.file(\"https://cf-courses-data.s3.us.cloud-object-storage.appdomain.cloud/IBMDeveloperSkillsNetwork-DS0103EN-SkillsNetwork/labs/Module%202/recipes.csv\",\n",
    "              destfile = \"/resources/data/recipes.csv\", quiet = TRUE)\n",
    "\n",
    "\n",
    "recipes <- read.csv(\"/resources/data/recipes.csv\") # takes 30 seconds"
   ]
  },
  {
   "cell_type": "markdown",
   "id": "aa7044b7-b3fd-44c2-9aa0-41828f8dd71a",
   "metadata": {},
   "source": [
    "Show the first few rows.\n"
   ]
  },
  {
   "cell_type": "code",
   "execution_count": null,
   "id": "2b7e2ebd-25f8-4647-95cb-5fbf0ad69479",
   "metadata": {},
   "outputs": [],
   "source": [
    "head(recipes)"
   ]
  },
  {
   "cell_type": "markdown",
   "id": "d1fefcbf-7736-4a03-b442-8c0bbeac7bf1",
   "metadata": {},
   "source": [
    "Get the dimensions of the dataframe.\n"
   ]
  },
  {
   "cell_type": "code",
   "execution_count": null,
   "id": "568d5b39-a274-4bfb-b433-a5ece3db9822",
   "metadata": {},
   "outputs": [],
   "source": [
    "nrow(recipes)"
   ]
  },
  {
   "cell_type": "code",
   "execution_count": null,
   "id": "2a424f89-e464-41f5-a571-1c3b139fa1cc",
   "metadata": {},
   "outputs": [],
   "source": [
    "ncol(recipes)"
   ]
  },
  {
   "cell_type": "markdown",
   "id": "2030dc3c-1ca0-4607-af84-ec706549585a",
   "metadata": {},
   "source": [
    "So our dataset consists of 57,691 recipes. Each row represents a recipe, and for each recipe, the corresponding cuisine is documented as well as whether 384 ingredients exist in the recipe or not beginning with almond and ending with zucchini.\n"
   ]
  },
  {
   "cell_type": "markdown",
   "id": "378efc79-1220-4a87-9798-e51420381b63",
   "metadata": {},
   "source": [
    "We know that a basic sushi recipe includes the ingredients:\n",
    "* rice\n",
    "* soy sauce\n",
    "* wasabi\n",
    "* some fish/vegetables\n"
   ]
  },
  {
   "cell_type": "markdown",
   "id": "b381e828-2b35-4569-a545-ac1c6a7921bc",
   "metadata": {},
   "source": [
    "Let's check that these ingredients exist in our dataframe:\n"
   ]
  },
  {
   "cell_type": "code",
   "execution_count": null,
   "id": "296b4b1f-5688-4f45-a671-e4c1fb35a928",
   "metadata": {},
   "outputs": [],
   "source": [
    "grep(\"rice\", names(recipes), value = TRUE) # yes as rice\n",
    "grep(\"wasabi\", names(recipes), value = TRUE) # yes\n",
    "grep(\"soy\", names(recipes), value = TRUE) # yes as soy_sauce"
   ]
  },
  {
   "cell_type": "markdown",
   "id": "358b0817-e1d8-4666-8e06-f4710b0c4328",
   "metadata": {},
   "source": [
    "Yes, they do!\n",
    "\n",
    "* rice exists as rice.\n",
    "* wasabi exists as wasabi.\n",
    "* soy exists as soy_sauce.\n",
    "\n",
    "So maybe if a recipe contains all three ingredients: rice, wasabi, and soy_sauce, then we can confidently say that the recipe is a **Japanese** cuisine! Let's keep this in mind!\n",
    "\n",
    "----------------\n"
   ]
  },
  {
   "cell_type": "markdown",
   "id": "7c23196e-2f4c-4d62-8b93-86dc4ac55180",
   "metadata": {},
   "source": [
    "# Data Preparation <a id=\"4\"></a>\n"
   ]
  },
  {
   "cell_type": "markdown",
   "id": "faa5a6ec-b596-475a-a514-c53254ef95e8",
   "metadata": {},
   "source": [
    "<img src=\"https://cf-courses-data.s3.us.cloud-object-storage.appdomain.cloud/IBMDeveloperSkillsNetwork-DS0103EN-SkillsNetwork/labs/Module%203/images/lab3_fig5_flowchart_data_preparation.png\" width=\"500\">\n"
   ]
  },
  {
   "cell_type": "markdown",
   "id": "7316551e-eded-4cf6-b344-5a0127aa07a6",
   "metadata": {},
   "source": [
    "In this section, we will prepare the data for the next stage in the data science methodology, which is modeling. This stage involves exploring the data further and making sure that it is in the right format for the machine learning algorithm that we selected in the analytic approach stage, which is decision trees.\n"
   ]
  },
  {
   "cell_type": "markdown",
   "id": "fed2ee05-0fc3-4e94-9046-86f5150b1fa4",
   "metadata": {},
   "source": [
    "First, look at the data to see if it needs cleaning.\n"
   ]
  },
  {
   "cell_type": "code",
   "execution_count": null,
   "id": "a8dcfc0b-d92a-4937-97c8-e5f7fcfc8563",
   "metadata": {},
   "outputs": [],
   "source": [
    "base::table(recipes$country) # frequency table"
   ]
  },
  {
   "cell_type": "markdown",
   "id": "1f701717-8cd6-416e-8057-c84237e5ec3d",
   "metadata": {},
   "source": [
    "By looking at the above table, we can make the following observations:\n",
    "\n",
    "1. Cuisine column is labeled as Country, which is inaccurate.\n",
    "2. Cuisine names are not consistent as not all of them start with an uppercase first letter.\n",
    "3. Some cuisines are duplicated as variation of the country name, such as Vietnam and Vietnamese.\n",
    "4. Some cuisines have very few recipes.\n"
   ]
  },
  {
   "cell_type": "markdown",
   "id": "3652c239-f4c6-4a8e-9ea3-1e1da09b1cae",
   "metadata": {},
   "source": [
    "#### Let's fixes these problems.\n"
   ]
  },
  {
   "cell_type": "markdown",
   "id": "d9540588-4b07-4877-b9c6-2b778b5d9077",
   "metadata": {},
   "source": [
    "Fix the name of the column showing the cuisine.\n"
   ]
  },
  {
   "cell_type": "code",
   "execution_count": null,
   "id": "fa144fbb-727d-4611-9a40-9345da56629e",
   "metadata": {},
   "outputs": [],
   "source": [
    "colnames(recipes)[1] = \"cuisine\""
   ]
  },
  {
   "cell_type": "markdown",
   "id": "dd9675c5-87cb-421b-b5c8-a6cd19448c4f",
   "metadata": {},
   "source": [
    "Make all the cuisine names lowercase.\n"
   ]
  },
  {
   "cell_type": "code",
   "execution_count": null,
   "id": "d0480852-5f94-4012-a132-35880b47437b",
   "metadata": {},
   "outputs": [],
   "source": [
    "recipes$cuisine <- tolower(as.character(recipes$cuisine))\n",
    "\n",
    "recipes"
   ]
  },
  {
   "cell_type": "markdown",
   "id": "e48e79c6-a980-4a62-860f-2f204b3d221d",
   "metadata": {},
   "source": [
    "Make the cuisine names consistent.\n"
   ]
  },
  {
   "cell_type": "code",
   "execution_count": null,
   "id": "94a0beaf-964c-4bd8-abc1-3f6d409d996e",
   "metadata": {},
   "outputs": [],
   "source": [
    "recipes$cuisine[recipes$cuisine == \"austria\"] <- \"austrian\"\n",
    "recipes$cuisine[recipes$cuisine == \"belgium\"] <- \"belgian\"\n",
    "recipes$cuisine[recipes$cuisine == \"china\"] <- \"chinese\"\n",
    "recipes$cuisine[recipes$cuisine == \"canada\"] <- \"canadian\"\n",
    "recipes$cuisine[recipes$cuisine == \"netherlands\"] <- \"dutch\"\n",
    "recipes$cuisine[recipes$cuisine == \"france\"] <- \"french\"\n",
    "recipes$cuisine[recipes$cuisine == \"germany\"] <- \"german\"\n",
    "recipes$cuisine[recipes$cuisine == \"india\"] <- \"indian\"\n",
    "recipes$cuisine[recipes$cuisine == \"indonesia\"] <- \"indonesian\"\n",
    "recipes$cuisine[recipes$cuisine == \"iran\"] <- \"iranian\"\n",
    "recipes$cuisine[recipes$cuisine == \"israel\"] <- \"jewish\"\n",
    "recipes$cuisine[recipes$cuisine == \"italy\"] <- \"italian\"\n",
    "recipes$cuisine[recipes$cuisine == \"japan\"] <- \"japanese\"\n",
    "recipes$cuisine[recipes$cuisine == \"korea\"] <- \"korean\"\n",
    "recipes$cuisine[recipes$cuisine == \"lebanon\"] <- \"lebanese\"\n",
    "recipes$cuisine[recipes$cuisine == \"malaysia\"] <- \"malaysian\"\n",
    "recipes$cuisine[recipes$cuisine == \"mexico\"] <- \"mexican\"\n",
    "recipes$cuisine[recipes$cuisine == \"pakistan\"] <- \"pakistani\"\n",
    "recipes$cuisine[recipes$cuisine == \"philippines\"] <- \"philippine\"\n",
    "recipes$cuisine[recipes$cuisine == \"scandinavia\"] <- \"scandinavian\"\n",
    "recipes$cuisine[recipes$cuisine == \"spain\"] <- \"spanish_portuguese\"\n",
    "recipes$cuisine[recipes$cuisine == \"portugal\"] <- \"spanish_portuguese\"\n",
    "recipes$cuisine[recipes$cuisine == \"switzerland\"] <- \"swiss\"\n",
    "recipes$cuisine[recipes$cuisine == \"thailand\"] <- \"thai\"\n",
    "recipes$cuisine[recipes$cuisine == \"turkey\"] <- \"turkish\"\n",
    "recipes$cuisine[recipes$cuisine == \"irish\"] <- \"uk-and-irish\"\n",
    "recipes$cuisine[recipes$cuisine == \"uk-and-ireland\"] <- \"uk-and-irish\"\n",
    "recipes$cuisine[recipes$cuisine == \"vietnam\"] <- \"vietnamese\"\n",
    "\n",
    "recipes"
   ]
  },
  {
   "cell_type": "markdown",
   "id": "ddd3e55c-5581-4663-aee7-30357867822e",
   "metadata": {},
   "source": [
    "Remove cuisines with < 50 recipes:\n"
   ]
  },
  {
   "cell_type": "code",
   "execution_count": null,
   "id": "ecac876b-d9d0-43ec-98d2-28121c950c63",
   "metadata": {},
   "outputs": [],
   "source": [
    "# sort the table of cuisines by descending order\n",
    "t <- sort(base::table(recipes$cuisine), decreasing = T)\n",
    "\n",
    "t"
   ]
  },
  {
   "cell_type": "code",
   "execution_count": null,
   "id": "087557f2-5c32-44af-9332-36fafe3e9813",
   "metadata": {},
   "outputs": [],
   "source": [
    "# get cuisines with >= 50 recipes\n",
    "filter_list <- names(t[t >= 50])\n",
    "\n",
    "filter_list"
   ]
  },
  {
   "cell_type": "code",
   "execution_count": null,
   "id": "5de8357d-d3fd-423f-a567-58cc496f0535",
   "metadata": {},
   "outputs": [],
   "source": [
    "before <- nrow(recipes) # number of rows of original dataframe\n",
    "print(paste0(\"Number of rows of original dataframe is \", before))\n",
    "\n",
    "recipes <- recipes[recipes$cuisine %in% filter_list,]\n",
    "\n",
    "after <- nrow(recipes)\n",
    "print(paste0(\"Number of rows of processed dataframe is \", after))\n",
    "\n",
    "print(paste0(before - after, \" rows removed!\"))"
   ]
  },
  {
   "cell_type": "markdown",
   "id": "a6be126b-5092-41ca-a863-3c7a35a6a86a",
   "metadata": {},
   "source": [
    "Convert all of the columns into factors. This is to run the classification model later.\n"
   ]
  },
  {
   "cell_type": "code",
   "execution_count": null,
   "id": "c4ae5fae-f563-492b-942e-a8f5ef661b09",
   "metadata": {},
   "outputs": [],
   "source": [
    "recipes[,names(recipes)] <- lapply(recipes[,names(recipes)], as.factor)\n",
    "\n",
    "recipes"
   ]
  },
  {
   "cell_type": "markdown",
   "id": "c9e347d4-40f2-4a0b-99e3-557f1b04b0dc",
   "metadata": {},
   "source": [
    "In R, you can check the structure of your data using the **str** function. Let's check the structure of our dataframe **recipes**.\n"
   ]
  },
  {
   "cell_type": "code",
   "execution_count": null,
   "id": "b8e0fe5c-9c81-42d8-8ecd-14b627123d73",
   "metadata": {},
   "outputs": [],
   "source": [
    "str(recipes)"
   ]
  },
  {
   "cell_type": "markdown",
   "id": "c3bd2e67-216e-4e80-91f2-6ef257c3af77",
   "metadata": {},
   "source": [
    "#### Let's analyze the data a little more in order to learn the data better and note any interesting preliminary observations.\n"
   ]
  },
  {
   "cell_type": "markdown",
   "id": "78f3d7a7-abf9-40f5-acfa-ee7a36b6415a",
   "metadata": {},
   "source": [
    "Run the following cell to get the recipes that contain **rice** *and* **soy** *and* **wasabi** *and* **seaweed**.\n"
   ]
  },
  {
   "cell_type": "code",
   "execution_count": null,
   "id": "b8f3dd38-a9d5-4559-a7ec-8df7396835f8",
   "metadata": {},
   "outputs": [],
   "source": [
    "check_recipes <- recipes[\n",
    "    recipes$rice == \"Yes\" &\n",
    "    recipes$soy_sauce == \"Yes\" &\n",
    "    recipes$wasabi == \"Yes\" &\n",
    "    recipes$seaweed == \"Yes\",\n",
    "]\n",
    "\n",
    "check_recipes"
   ]
  },
  {
   "cell_type": "markdown",
   "id": "3133a653-60cb-4dc2-bfb0-75117086808f",
   "metadata": {},
   "source": [
    "Based on the results of the above code, can we classify all recipes that contain **rice** *and* **soy** *and* **wasabi** *and* **seaweed** as **Japanese** recipes? Why?\n"
   ]
  },
  {
   "cell_type": "raw",
   "id": "4510ad60-4b9d-477e-baf8-6461573380b1",
   "metadata": {},
   "source": [
    "Your Answer:"
   ]
  },
  {
   "cell_type": "markdown",
   "id": "5e81cb86-0f17-446f-a160-f697012f8ea2",
   "metadata": {},
   "source": [
    "<div align=\"right\">\n",
    "<a href=\"#p1\" class=\"btn btn-default\" data-toggle=\"collapse\">Click here for the solution</a>\n",
    "</div>\n",
    "<div id=\"p1\" class=\"collapse\">\n",
    "No, because other recipes such as <strong>Asian</strong> and <strong>East_Asian</strong> recipes also contain these ingredients.\n",
    "</div>\n"
   ]
  },
  {
   "cell_type": "markdown",
   "id": "5f32644e-b776-4f49-ba5c-a97466e1f26c",
   "metadata": {},
   "source": [
    "Let's count the ingredients across all recipes.\n"
   ]
  },
  {
   "cell_type": "code",
   "execution_count": null,
   "id": "ce19adb4-8df9-43ee-8e8e-f22354f9ae7a",
   "metadata": {},
   "outputs": [],
   "source": [
    "# sum the row count when the value of the row in a column is equal to \"Yes\" (value of 2)\n",
    "ingred <- unlist(\n",
    "            lapply( recipes[, names(recipes)], function(x) sum(as.integer(x) == 2))\n",
    "            )\n",
    "\n",
    "# transpose the dataframe so that each row is an ingredient\n",
    "ingred <- as.data.frame( t( as.data.frame(ingred) ))\n",
    "                \n",
    "ing_df <- data.frame(\"ingredient\" = names(ingred), \n",
    "                     \"count\" = as.numeric(ingred[1,])\n",
    "                    )[-1,]\n",
    "                \n",
    "ing_df"
   ]
  },
  {
   "cell_type": "markdown",
   "id": "d009988b-c4c6-4313-84f8-5600827c06d7",
   "metadata": {},
   "source": [
    "Now we have a dataframe of ingredients and their total counts across all recipes. Let's sort this dataframe in descending order.\n"
   ]
  },
  {
   "cell_type": "code",
   "execution_count": null,
   "id": "b7c73aa6-54fa-4e40-9676-028617d5b3ee",
   "metadata": {},
   "outputs": [],
   "source": [
    "ing_df_sort <- ing_df[order(ing_df$count, decreasing = TRUE),]\n",
    "rownames(ing_df_sort) <- 1:nrow(ing_df_sort)\n",
    "\n",
    "ing_df_sort"
   ]
  },
  {
   "cell_type": "markdown",
   "id": "6d7b36a7-a4a3-4aa0-acb8-acde3532242e",
   "metadata": {},
   "source": [
    "#### What are the 3 most popular ingredients?\n"
   ]
  },
  {
   "cell_type": "raw",
   "id": "a7efe1d0-5d42-4e68-a126-21e90b830df2",
   "metadata": {},
   "source": [
    "Your Answer:\n",
    "1.\n",
    "\n",
    "2.\n",
    "\n",
    "3."
   ]
  },
  {
   "cell_type": "markdown",
   "id": "3ed0dc52-4bfc-4e83-a38c-bec4b2c74147",
   "metadata": {},
   "source": [
    "<div align=\"right\">\n",
    "<a href=\"#p2\" class=\"btn btn-default\" data-toggle=\"collapse\">Click here for the solution</a>\n",
    "</div>\n",
    "<div id=\"p2\" class=\"collapse\">\n",
    "1. Egg with <strong>21,025</strong> occurrences. <br>\n",
    "2. Wheat with <strong>20,781</strong> occurrences. <br>\n",
    "3. Butter with <strong>20,719</strong> occurrences. <br>\n",
    "</div>\n"
   ]
  },
  {
   "cell_type": "markdown",
   "id": "e3984195-a3d0-452e-b64a-7fe64c7ef4be",
   "metadata": {},
   "source": [
    "However, note that there is a problem with the above table. There are ~40,000 American recipes in our dataset, which means that the data is biased towards American ingredients.\n"
   ]
  },
  {
   "cell_type": "markdown",
   "id": "63458a84-da6b-4d86-bfff-36a5ea70ea19",
   "metadata": {},
   "source": [
    "**Therefore**, let's compute a more objective summary of the ingredients by looking at the ingredients per cuisine.\n"
   ]
  },
  {
   "cell_type": "markdown",
   "id": "700d4cf2-5c51-4844-87a7-477d124ef9d0",
   "metadata": {},
   "source": [
    "#### Let's create a *profile* for each cuisine.\n",
    "\n",
    "In other words, let's try to find out what ingredients Chinese people typically use, and what is **Canadian** food for example.\n"
   ]
  },
  {
   "cell_type": "code",
   "execution_count": null,
   "id": "5f2d277c-44c7-49fb-9993-6ed872e626df",
   "metadata": {},
   "outputs": [],
   "source": [
    "# create a dataframe of the counts of ingredients by cuisine, normalized by the number of \n",
    "# recipes pertaining to that cuisine\n",
    "by_cuisine_norm <- aggregate(recipes, \n",
    "                        by = list(recipes$cuisine), \n",
    "                        FUN = function(x) round(sum(as.integer(x) == 2)/\n",
    "                                                length(as.integer(x)),4))\n",
    "# remove the unnecessary column \"cuisine\"\n",
    "by_cuisine_norm <- by_cuisine_norm[,-2]\n",
    "\n",
    "# rename the first column into \"cuisine\"\n",
    "names(by_cuisine_norm)[1] <- \"cuisine\"\n",
    "                            \n",
    "head(by_cuisine_norm)"
   ]
  },
  {
   "cell_type": "markdown",
   "id": "ce349070-c9e6-4ff2-9869-2611a348ca78",
   "metadata": {},
   "source": [
    "As shown above, we have just created a dataframe where each row is a cuisine and each column (except for the first column) is an ingredient, and the row values represent the percentage of each ingredient in the corresponding cuisine.\n",
    "\n",
    "**For example**:\n",
    "\n",
    "* *almond* is present across 15.65% of all of the **African** recipes.\n",
    "* *butter* is present across 38.11% of all of the **Canadian** recipes.\n"
   ]
  },
  {
   "cell_type": "markdown",
   "id": "ab8e6078-cc0f-48da-9f1a-103ec469e05f",
   "metadata": {},
   "source": [
    "Let's print out the profile for each cuisine by displaying the top four ingredients in each cuisine.\n"
   ]
  },
  {
   "cell_type": "code",
   "execution_count": null,
   "id": "b7239c57-f7f3-4bcc-aa33-2d630264956d",
   "metadata": {},
   "outputs": [],
   "source": [
    "for(nation in by_cuisine_norm$cuisine){\n",
    "    x <- sort(by_cuisine_norm[by_cuisine_norm$cuisine == nation,][-1], decreasing = TRUE)\n",
    "    cat(c(toupper(nation)))\n",
    "    cat(\"\\n\")\n",
    "    cat(paste0(names(x)[1:4], \" (\", round(x[1:4]*100,0), \"%) \"))\n",
    "    cat(\"\\n\")\n",
    "    cat(\"\\n\")\n",
    "}"
   ]
  },
  {
   "cell_type": "markdown",
   "id": "8aaca50f-3737-4552-8f33-7926b6746c36",
   "metadata": {},
   "source": [
    "At this point, we feel that we have understood the data well and the data is ready and is in the right format for modeling!\n",
    "\n",
    "-----------\n"
   ]
  }
 ],
 "metadata": {
  "kernelspec": {
   "display_name": "Python 3 (ipykernel)",
   "language": "python",
   "name": "python3"
  },
  "language_info": {
   "codemirror_mode": {
    "name": "ipython",
    "version": 3
   },
   "file_extension": ".py",
   "mimetype": "text/x-python",
   "name": "python",
   "nbconvert_exporter": "python",
   "pygments_lexer": "ipython3",
   "version": "3.10.6"
  }
 },
 "nbformat": 4,
 "nbformat_minor": 4
}
