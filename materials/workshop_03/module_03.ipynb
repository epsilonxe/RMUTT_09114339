{
 "cells": [
  {
   "cell_type": "markdown",
   "metadata": {},
   "source": [
    "<h1>From Understanding to Preparation</h1>\n"
   ]
  },
  {
   "cell_type": "markdown",
   "metadata": {},
   "source": [
    "## Introduction\n",
    "\n",
    "In this lab, we will continue learning about the data science methodology, and focus on the **Data Understanding** and the **Data Preparation** stages.\n",
    "\n",
    "## Objectives\n",
    "\n",
    "After complting this lab you will be able to:\n",
    "\n",
    "* Understand Data \n",
    "* Prepare Data for analysis and inference\n"
   ]
  },
  {
   "cell_type": "markdown",
   "metadata": {},
   "source": [
    "## Table of Contents\n",
    "\n",
    "<div class=\"alert alert-block alert-info\" style=\"margin-top: 20px\">\n",
    "    \n",
    "1. [Recap](#0)<br>\n",
    "2. [Data Understanding](#2)<br>\n",
    "3. [Data Preparation](#2)<br>\n",
    "</div>\n",
    "<hr>\n"
   ]
  },
  {
   "cell_type": "markdown",
   "metadata": {},
   "source": [
    "# Recap <a id=\"0\"></a>\n"
   ]
  },
  {
   "cell_type": "markdown",
   "metadata": {},
   "source": [
    "In Lab **From Requirements to Collection**, we learned that the data we need to answer the question developed in the business understanding stage, namely *can we automate the process of determining the cuisine of a given recipe?*, is readily available. A researcher named Yong-Yeol Ahn scraped tens of thousands of food recipes (cuisines and ingredients) from three different websites, namely:\n"
   ]
  },
  {
   "cell_type": "markdown",
   "metadata": {},
   "source": [
    "<img src=\"https://cf-courses-data.s3.us.cloud-object-storage.appdomain.cloud/IBMDeveloperSkillsNetwork-DS0103EN-SkillsNetwork/labs/Module%202/images/lab2_fig3_allrecipes.png\" width=\"500\">\n",
    "<div align=\"center\">\n",
    "www.allrecipes.com\n",
    "</div>\n",
    "<br/><br/>\n",
    "<img src=\"https://cf-courses-data.s3.us.cloud-object-storage.appdomain.cloud/IBMDeveloperSkillsNetwork-DS0103EN-SkillsNetwork/labs/Module%202/images/lab2_fig4_epicurious.png\" width=\"500\">\n",
    "<div align=\"center\">\n",
    "www.epicurious.com\n",
    "</div>\n",
    "<br/><br/>\n",
    "<img src=\"https://cf-courses-data.s3.us.cloud-object-storage.appdomain.cloud/IBMDeveloperSkillsNetwork-DS0103EN-SkillsNetwork/labs/Module%202/images/lab2_fig5_menupan.png\" width=\"500\">\n",
    "<div align=\"center\">\n",
    "www.menupan.com\n",
    "</div>\n",
    "<br/><br/>\n"
   ]
  },
  {
   "cell_type": "markdown",
   "metadata": {},
   "source": [
    "For more information on Yong-Yeol Ahn and his research, you can read his paper on [Flavor Network and the Principles of Food Pairing](http://yongyeol.com/papers/ahn-flavornet-2011.pdf).\n"
   ]
  },
  {
   "cell_type": "markdown",
   "metadata": {},
   "source": [
    "# Data Understanding <a id=\"2\"></a>\n"
   ]
  },
  {
   "cell_type": "markdown",
   "metadata": {},
   "source": [
    "<img src=\"https://cf-courses-data.s3.us.cloud-object-storage.appdomain.cloud/IBMDeveloperSkillsNetwork-DS0103EN-SkillsNetwork/labs/Module%203/images/flowchart_data_understanding.png\" width=\"500\">\n"
   ]
  },
  {
   "cell_type": "code",
   "execution_count": 4,
   "metadata": {},
   "outputs": [],
   "source": [
    "import pandas as pd\n",
    "\n",
    "recipes = pd.read_csv('recipes.csv')"
   ]
  },
  {
   "cell_type": "markdown",
   "metadata": {},
   "source": [
    "Show the first few rows.\n"
   ]
  },
  {
   "cell_type": "code",
   "execution_count": 5,
   "metadata": {},
   "outputs": [
    {
     "data": {
      "text/html": [
       "<div>\n",
       "<style scoped>\n",
       "    .dataframe tbody tr th:only-of-type {\n",
       "        vertical-align: middle;\n",
       "    }\n",
       "\n",
       "    .dataframe tbody tr th {\n",
       "        vertical-align: top;\n",
       "    }\n",
       "\n",
       "    .dataframe thead th {\n",
       "        text-align: right;\n",
       "    }\n",
       "</style>\n",
       "<table border=\"1\" class=\"dataframe\">\n",
       "  <thead>\n",
       "    <tr style=\"text-align: right;\">\n",
       "      <th></th>\n",
       "      <th>country</th>\n",
       "      <th>almond</th>\n",
       "      <th>angelica</th>\n",
       "      <th>anise</th>\n",
       "      <th>anise_seed</th>\n",
       "      <th>apple</th>\n",
       "      <th>apple_brandy</th>\n",
       "      <th>apricot</th>\n",
       "      <th>armagnac</th>\n",
       "      <th>artemisia</th>\n",
       "      <th>...</th>\n",
       "      <th>whiskey</th>\n",
       "      <th>white_bread</th>\n",
       "      <th>white_wine</th>\n",
       "      <th>whole_grain_wheat_flour</th>\n",
       "      <th>wine</th>\n",
       "      <th>wood</th>\n",
       "      <th>yam</th>\n",
       "      <th>yeast</th>\n",
       "      <th>yogurt</th>\n",
       "      <th>zucchini</th>\n",
       "    </tr>\n",
       "  </thead>\n",
       "  <tbody>\n",
       "    <tr>\n",
       "      <th>0</th>\n",
       "      <td>Vietnamese</td>\n",
       "      <td>No</td>\n",
       "      <td>No</td>\n",
       "      <td>No</td>\n",
       "      <td>No</td>\n",
       "      <td>No</td>\n",
       "      <td>No</td>\n",
       "      <td>No</td>\n",
       "      <td>No</td>\n",
       "      <td>No</td>\n",
       "      <td>...</td>\n",
       "      <td>No</td>\n",
       "      <td>No</td>\n",
       "      <td>No</td>\n",
       "      <td>No</td>\n",
       "      <td>No</td>\n",
       "      <td>No</td>\n",
       "      <td>No</td>\n",
       "      <td>No</td>\n",
       "      <td>No</td>\n",
       "      <td>No</td>\n",
       "    </tr>\n",
       "    <tr>\n",
       "      <th>1</th>\n",
       "      <td>Vietnamese</td>\n",
       "      <td>No</td>\n",
       "      <td>No</td>\n",
       "      <td>No</td>\n",
       "      <td>No</td>\n",
       "      <td>No</td>\n",
       "      <td>No</td>\n",
       "      <td>No</td>\n",
       "      <td>No</td>\n",
       "      <td>No</td>\n",
       "      <td>...</td>\n",
       "      <td>No</td>\n",
       "      <td>No</td>\n",
       "      <td>No</td>\n",
       "      <td>No</td>\n",
       "      <td>No</td>\n",
       "      <td>No</td>\n",
       "      <td>No</td>\n",
       "      <td>No</td>\n",
       "      <td>No</td>\n",
       "      <td>No</td>\n",
       "    </tr>\n",
       "    <tr>\n",
       "      <th>2</th>\n",
       "      <td>Vietnamese</td>\n",
       "      <td>No</td>\n",
       "      <td>No</td>\n",
       "      <td>No</td>\n",
       "      <td>No</td>\n",
       "      <td>No</td>\n",
       "      <td>No</td>\n",
       "      <td>No</td>\n",
       "      <td>No</td>\n",
       "      <td>No</td>\n",
       "      <td>...</td>\n",
       "      <td>No</td>\n",
       "      <td>No</td>\n",
       "      <td>No</td>\n",
       "      <td>No</td>\n",
       "      <td>No</td>\n",
       "      <td>No</td>\n",
       "      <td>No</td>\n",
       "      <td>No</td>\n",
       "      <td>No</td>\n",
       "      <td>No</td>\n",
       "    </tr>\n",
       "  </tbody>\n",
       "</table>\n",
       "<p>3 rows × 384 columns</p>\n",
       "</div>"
      ],
      "text/plain": [
       "      country almond angelica anise anise_seed apple apple_brandy apricot  \\\n",
       "0  Vietnamese     No       No    No         No    No           No      No   \n",
       "1  Vietnamese     No       No    No         No    No           No      No   \n",
       "2  Vietnamese     No       No    No         No    No           No      No   \n",
       "\n",
       "  armagnac artemisia  ... whiskey white_bread white_wine  \\\n",
       "0       No        No  ...      No          No         No   \n",
       "1       No        No  ...      No          No         No   \n",
       "2       No        No  ...      No          No         No   \n",
       "\n",
       "  whole_grain_wheat_flour wine wood yam yeast yogurt zucchini  \n",
       "0                      No   No   No  No    No     No       No  \n",
       "1                      No   No   No  No    No     No       No  \n",
       "2                      No   No   No  No    No     No       No  \n",
       "\n",
       "[3 rows x 384 columns]"
      ]
     },
     "execution_count": 5,
     "metadata": {},
     "output_type": "execute_result"
    }
   ],
   "source": [
    "recipes.head(3)"
   ]
  },
  {
   "cell_type": "markdown",
   "metadata": {},
   "source": [
    "Get the dimensions of the dataframe.\n"
   ]
  },
  {
   "cell_type": "code",
   "execution_count": 6,
   "metadata": {},
   "outputs": [
    {
     "data": {
      "text/plain": [
       "(57691, 384)"
      ]
     },
     "execution_count": 6,
     "metadata": {},
     "output_type": "execute_result"
    }
   ],
   "source": [
    "recipes.shape"
   ]
  },
  {
   "cell_type": "markdown",
   "metadata": {},
   "source": [
    "So our dataset consists of 57,691 recipes. Each row represents a recipe, and for each recipe, the corresponding cuisine is documented as well as whether 384 ingredients exist in the recipe or not beginning with almond and ending with zucchini.\n"
   ]
  },
  {
   "cell_type": "markdown",
   "metadata": {},
   "source": [
    "We know that a basic sushi recipe includes the ingredients:\n",
    "* rice\n",
    "* soy sauce\n",
    "* wasabi\n",
    "* some fish/vegetables\n"
   ]
  },
  {
   "cell_type": "markdown",
   "metadata": {},
   "source": [
    "Let's check that these ingredients exist in our dataframe:\n"
   ]
  },
  {
   "cell_type": "code",
   "execution_count": 25,
   "metadata": {},
   "outputs": [
    {
     "data": {
      "text/plain": [
       "Index(['brown_rice', 'licorice', 'rice'], dtype='object')"
      ]
     },
     "execution_count": 25,
     "metadata": {},
     "output_type": "execute_result"
    }
   ],
   "source": [
    "ingredients = recipes.columns\n",
    "ind = recipes.columns.str.contains('rice')\n",
    "ingredients[ind]"
   ]
  },
  {
   "cell_type": "code",
   "execution_count": 24,
   "metadata": {},
   "outputs": [
    {
     "name": "stdout",
     "output_type": "stream",
     "text": [
      "Index(['brown_rice', 'licorice', 'rice'], dtype='object')\n",
      "Index(['soy_sauce', 'soybean', 'soybean_oil'], dtype='object')\n",
      "Index(['wasabi'], dtype='object')\n"
     ]
    }
   ],
   "source": [
    "ingredients = recipes.columns\n",
    "\n",
    "checklist = ['rice', 'soy', 'wasabi']\n",
    "for c in checklist:\n",
    "    ind = ingredients.str.contains(c)\n",
    "    print(ingredients[ind])"
   ]
  },
  {
   "cell_type": "markdown",
   "metadata": {},
   "source": [
    "Yes, they do!\n",
    "\n",
    "* rice exists as rice.\n",
    "* wasabi exists as wasabi.\n",
    "* soy exists as soy_sauce.\n",
    "\n",
    "So maybe if a recipe contains all three ingredients: rice, wasabi, and soy_sauce, then we can confidently say that the recipe is a **Japanese** cuisine! Let's keep this in mind!\n",
    "\n",
    "----------------\n"
   ]
  },
  {
   "cell_type": "markdown",
   "metadata": {},
   "source": [
    "# Data Preparation <a id=\"4\"></a>\n"
   ]
  },
  {
   "cell_type": "markdown",
   "metadata": {},
   "source": [
    "<img src=\"https://cf-courses-data.s3.us.cloud-object-storage.appdomain.cloud/IBMDeveloperSkillsNetwork-DS0103EN-SkillsNetwork/labs/Module%203/images/lab3_fig5_flowchart_data_preparation.png\" width=\"500\">\n"
   ]
  },
  {
   "cell_type": "markdown",
   "metadata": {},
   "source": [
    "In this section, we will prepare the data for the next stage in the data science methodology, which is modeling. This stage involves exploring the data further and making sure that it is in the right format for the machine learning algorithm that we selected in the analytic approach stage, which is decision trees.\n"
   ]
  },
  {
   "cell_type": "markdown",
   "metadata": {},
   "source": [
    "First, look at the data to see if it needs cleaning.\n"
   ]
  },
  {
   "cell_type": "code",
   "execution_count": null,
   "metadata": {},
   "outputs": [],
   "source": [
    "base::table(recipes$country) # frequency table"
   ]
  },
  {
   "cell_type": "markdown",
   "metadata": {},
   "source": [
    "By looking at the above table, we can make the following observations:\n",
    "\n",
    "1. Cuisine column is labeled as Country, which is inaccurate.\n",
    "2. Cuisine names are not consistent as not all of them start with an uppercase first letter.\n",
    "3. Some cuisines are duplicated as variation of the country name, such as Vietnam and Vietnamese.\n",
    "4. Some cuisines have very few recipes.\n"
   ]
  },
  {
   "cell_type": "markdown",
   "metadata": {},
   "source": [
    "#### Let's fixes these problems.\n"
   ]
  },
  {
   "cell_type": "markdown",
   "metadata": {},
   "source": [
    "Fix the name of the column showing the cuisine.\n"
   ]
  },
  {
   "cell_type": "code",
   "execution_count": null,
   "metadata": {},
   "outputs": [],
   "source": [
    "colnames(recipes)[1] = \"cuisine\""
   ]
  },
  {
   "cell_type": "markdown",
   "metadata": {},
   "source": [
    "Make all the cuisine names lowercase.\n"
   ]
  },
  {
   "cell_type": "code",
   "execution_count": null,
   "metadata": {},
   "outputs": [],
   "source": [
    "recipes$cuisine <- tolower(as.character(recipes$cuisine))\n",
    "\n",
    "recipes"
   ]
  },
  {
   "cell_type": "markdown",
   "metadata": {},
   "source": [
    "Make the cuisine names consistent.\n"
   ]
  },
  {
   "cell_type": "code",
   "execution_count": null,
   "metadata": {},
   "outputs": [],
   "source": [
    "recipes$cuisine[recipes$cuisine == \"austria\"] <- \"austrian\"\n",
    "recipes$cuisine[recipes$cuisine == \"belgium\"] <- \"belgian\"\n",
    "recipes$cuisine[recipes$cuisine == \"china\"] <- \"chinese\"\n",
    "recipes$cuisine[recipes$cuisine == \"canada\"] <- \"canadian\"\n",
    "recipes$cuisine[recipes$cuisine == \"netherlands\"] <- \"dutch\"\n",
    "recipes$cuisine[recipes$cuisine == \"france\"] <- \"french\"\n",
    "recipes$cuisine[recipes$cuisine == \"germany\"] <- \"german\"\n",
    "recipes$cuisine[recipes$cuisine == \"india\"] <- \"indian\"\n",
    "recipes$cuisine[recipes$cuisine == \"indonesia\"] <- \"indonesian\"\n",
    "recipes$cuisine[recipes$cuisine == \"iran\"] <- \"iranian\"\n",
    "recipes$cuisine[recipes$cuisine == \"israel\"] <- \"jewish\"\n",
    "recipes$cuisine[recipes$cuisine == \"italy\"] <- \"italian\"\n",
    "recipes$cuisine[recipes$cuisine == \"japan\"] <- \"japanese\"\n",
    "recipes$cuisine[recipes$cuisine == \"korea\"] <- \"korean\"\n",
    "recipes$cuisine[recipes$cuisine == \"lebanon\"] <- \"lebanese\"\n",
    "recipes$cuisine[recipes$cuisine == \"malaysia\"] <- \"malaysian\"\n",
    "recipes$cuisine[recipes$cuisine == \"mexico\"] <- \"mexican\"\n",
    "recipes$cuisine[recipes$cuisine == \"pakistan\"] <- \"pakistani\"\n",
    "recipes$cuisine[recipes$cuisine == \"philippines\"] <- \"philippine\"\n",
    "recipes$cuisine[recipes$cuisine == \"scandinavia\"] <- \"scandinavian\"\n",
    "recipes$cuisine[recipes$cuisine == \"spain\"] <- \"spanish_portuguese\"\n",
    "recipes$cuisine[recipes$cuisine == \"portugal\"] <- \"spanish_portuguese\"\n",
    "recipes$cuisine[recipes$cuisine == \"switzerland\"] <- \"swiss\"\n",
    "recipes$cuisine[recipes$cuisine == \"thailand\"] <- \"thai\"\n",
    "recipes$cuisine[recipes$cuisine == \"turkey\"] <- \"turkish\"\n",
    "recipes$cuisine[recipes$cuisine == \"irish\"] <- \"uk-and-irish\"\n",
    "recipes$cuisine[recipes$cuisine == \"uk-and-ireland\"] <- \"uk-and-irish\"\n",
    "recipes$cuisine[recipes$cuisine == \"vietnam\"] <- \"vietnamese\"\n",
    "\n",
    "recipes"
   ]
  },
  {
   "cell_type": "markdown",
   "metadata": {},
   "source": [
    "Remove cuisines with < 50 recipes:\n"
   ]
  },
  {
   "cell_type": "code",
   "execution_count": null,
   "metadata": {},
   "outputs": [],
   "source": [
    "# sort the table of cuisines by descending order\n",
    "t <- sort(base::table(recipes$cuisine), decreasing = T)\n",
    "\n",
    "t"
   ]
  },
  {
   "cell_type": "code",
   "execution_count": null,
   "metadata": {},
   "outputs": [],
   "source": [
    "# get cuisines with >= 50 recipes\n",
    "filter_list <- names(t[t >= 50])\n",
    "\n",
    "filter_list"
   ]
  },
  {
   "cell_type": "code",
   "execution_count": null,
   "metadata": {},
   "outputs": [],
   "source": [
    "before <- nrow(recipes) # number of rows of original dataframe\n",
    "print(paste0(\"Number of rows of original dataframe is \", before))\n",
    "\n",
    "recipes <- recipes[recipes$cuisine %in% filter_list,]\n",
    "\n",
    "after <- nrow(recipes)\n",
    "print(paste0(\"Number of rows of processed dataframe is \", after))\n",
    "\n",
    "print(paste0(before - after, \" rows removed!\"))"
   ]
  },
  {
   "cell_type": "markdown",
   "metadata": {},
   "source": [
    "Convert all of the columns into factors. This is to run the classification model later.\n"
   ]
  },
  {
   "cell_type": "code",
   "execution_count": null,
   "metadata": {},
   "outputs": [],
   "source": [
    "recipes[,names(recipes)] <- lapply(recipes[,names(recipes)], as.factor)\n",
    "\n",
    "recipes"
   ]
  },
  {
   "cell_type": "markdown",
   "metadata": {},
   "source": [
    "In R, you can check the structure of your data using the **str** function. Let's check the structure of our dataframe **recipes**.\n"
   ]
  },
  {
   "cell_type": "code",
   "execution_count": null,
   "metadata": {},
   "outputs": [],
   "source": [
    "str(recipes)"
   ]
  },
  {
   "cell_type": "markdown",
   "metadata": {},
   "source": [
    "#### Let's analyze the data a little more in order to learn the data better and note any interesting preliminary observations.\n"
   ]
  },
  {
   "cell_type": "markdown",
   "metadata": {},
   "source": [
    "Run the following cell to get the recipes that contain **rice** *and* **soy** *and* **wasabi** *and* **seaweed**.\n"
   ]
  },
  {
   "cell_type": "code",
   "execution_count": null,
   "metadata": {},
   "outputs": [],
   "source": [
    "check_recipes <- recipes[\n",
    "    recipes$rice == \"Yes\" &\n",
    "    recipes$soy_sauce == \"Yes\" &\n",
    "    recipes$wasabi == \"Yes\" &\n",
    "    recipes$seaweed == \"Yes\",\n",
    "]\n",
    "\n",
    "check_recipes"
   ]
  },
  {
   "cell_type": "markdown",
   "metadata": {},
   "source": [
    "Based on the results of the above code, can we classify all recipes that contain **rice** *and* **soy** *and* **wasabi** *and* **seaweed** as **Japanese** recipes? Why?\n"
   ]
  },
  {
   "cell_type": "raw",
   "metadata": {},
   "source": [
    "Your Answer:"
   ]
  },
  {
   "cell_type": "markdown",
   "metadata": {},
   "source": [
    "<div align=\"right\">\n",
    "<a href=\"#p1\" class=\"btn btn-default\" data-toggle=\"collapse\">Click here for the solution</a>\n",
    "</div>\n",
    "<div id=\"p1\" class=\"collapse\">\n",
    "No, because other recipes such as <strong>Asian</strong> and <strong>East_Asian</strong> recipes also contain these ingredients.\n",
    "</div>\n"
   ]
  },
  {
   "cell_type": "markdown",
   "metadata": {},
   "source": [
    "Let's count the ingredients across all recipes.\n"
   ]
  },
  {
   "cell_type": "code",
   "execution_count": null,
   "metadata": {},
   "outputs": [],
   "source": [
    "# sum the row count when the value of the row in a column is equal to \"Yes\" (value of 2)\n",
    "ingred <- unlist(\n",
    "            lapply( recipes[, names(recipes)], function(x) sum(as.integer(x) == 2))\n",
    "            )\n",
    "\n",
    "# transpose the dataframe so that each row is an ingredient\n",
    "ingred <- as.data.frame( t( as.data.frame(ingred) ))\n",
    "                \n",
    "ing_df <- data.frame(\"ingredient\" = names(ingred), \n",
    "                     \"count\" = as.numeric(ingred[1,])\n",
    "                    )[-1,]\n",
    "                \n",
    "ing_df"
   ]
  },
  {
   "cell_type": "markdown",
   "metadata": {},
   "source": [
    "Now we have a dataframe of ingredients and their total counts across all recipes. Let's sort this dataframe in descending order.\n"
   ]
  },
  {
   "cell_type": "code",
   "execution_count": null,
   "metadata": {},
   "outputs": [],
   "source": [
    "ing_df_sort <- ing_df[order(ing_df$count, decreasing = TRUE),]\n",
    "rownames(ing_df_sort) <- 1:nrow(ing_df_sort)\n",
    "\n",
    "ing_df_sort"
   ]
  },
  {
   "cell_type": "markdown",
   "metadata": {},
   "source": [
    "#### What are the 3 most popular ingredients?\n"
   ]
  },
  {
   "cell_type": "raw",
   "metadata": {},
   "source": [
    "Your Answer:\n",
    "1.\n",
    "\n",
    "2.\n",
    "\n",
    "3."
   ]
  },
  {
   "cell_type": "markdown",
   "metadata": {},
   "source": [
    "<div align=\"right\">\n",
    "<a href=\"#p2\" class=\"btn btn-default\" data-toggle=\"collapse\">Click here for the solution</a>\n",
    "</div>\n",
    "<div id=\"p2\" class=\"collapse\">\n",
    "1. Egg with <strong>21,025</strong> occurrences. <br>\n",
    "2. Wheat with <strong>20,781</strong> occurrences. <br>\n",
    "3. Butter with <strong>20,719</strong> occurrences. <br>\n",
    "</div>\n"
   ]
  },
  {
   "cell_type": "markdown",
   "metadata": {},
   "source": [
    "However, note that there is a problem with the above table. There are ~40,000 American recipes in our dataset, which means that the data is biased towards American ingredients.\n"
   ]
  },
  {
   "cell_type": "markdown",
   "metadata": {},
   "source": [
    "**Therefore**, let's compute a more objective summary of the ingredients by looking at the ingredients per cuisine.\n"
   ]
  },
  {
   "cell_type": "markdown",
   "metadata": {},
   "source": [
    "#### Let's create a *profile* for each cuisine.\n",
    "\n",
    "In other words, let's try to find out what ingredients Chinese people typically use, and what is **Canadian** food for example.\n"
   ]
  },
  {
   "cell_type": "code",
   "execution_count": null,
   "metadata": {},
   "outputs": [],
   "source": [
    "# create a dataframe of the counts of ingredients by cuisine, normalized by the number of \n",
    "# recipes pertaining to that cuisine\n",
    "by_cuisine_norm <- aggregate(recipes, \n",
    "                        by = list(recipes$cuisine), \n",
    "                        FUN = function(x) round(sum(as.integer(x) == 2)/\n",
    "                                                length(as.integer(x)),4))\n",
    "# remove the unnecessary column \"cuisine\"\n",
    "by_cuisine_norm <- by_cuisine_norm[,-2]\n",
    "\n",
    "# rename the first column into \"cuisine\"\n",
    "names(by_cuisine_norm)[1] <- \"cuisine\"\n",
    "                            \n",
    "head(by_cuisine_norm)"
   ]
  },
  {
   "cell_type": "markdown",
   "metadata": {},
   "source": [
    "As shown above, we have just created a dataframe where each row is a cuisine and each column (except for the first column) is an ingredient, and the row values represent the percentage of each ingredient in the corresponding cuisine.\n",
    "\n",
    "**For example**:\n",
    "\n",
    "* *almond* is present across 15.65% of all of the **African** recipes.\n",
    "* *butter* is present across 38.11% of all of the **Canadian** recipes.\n"
   ]
  },
  {
   "cell_type": "markdown",
   "metadata": {},
   "source": [
    "Let's print out the profile for each cuisine by displaying the top four ingredients in each cuisine.\n"
   ]
  },
  {
   "cell_type": "code",
   "execution_count": null,
   "metadata": {},
   "outputs": [],
   "source": [
    "for(nation in by_cuisine_norm$cuisine){\n",
    "    x <- sort(by_cuisine_norm[by_cuisine_norm$cuisine == nation,][-1], decreasing = TRUE)\n",
    "    cat(c(toupper(nation)))\n",
    "    cat(\"\\n\")\n",
    "    cat(paste0(names(x)[1:4], \" (\", round(x[1:4]*100,0), \"%) \"))\n",
    "    cat(\"\\n\")\n",
    "    cat(\"\\n\")\n",
    "}"
   ]
  },
  {
   "cell_type": "markdown",
   "metadata": {},
   "source": [
    "At this point, we feel that we have understood the data well and the data is ready and is in the right format for modeling!\n",
    "\n",
    "-----------\n"
   ]
  }
 ],
 "metadata": {
  "kernelspec": {
   "display_name": "Python 3 (ipykernel)",
   "language": "python",
   "name": "python3"
  },
  "language_info": {
   "codemirror_mode": {
    "name": "ipython",
    "version": 3
   },
   "file_extension": ".py",
   "mimetype": "text/x-python",
   "name": "python",
   "nbconvert_exporter": "python",
   "pygments_lexer": "ipython3",
   "version": "3.10.6"
  }
 },
 "nbformat": 4,
 "nbformat_minor": 4
}
